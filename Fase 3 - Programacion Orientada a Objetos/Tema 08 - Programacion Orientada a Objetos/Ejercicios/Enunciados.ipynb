{
 "cells": [
  {
   "cell_type": "markdown",
   "metadata": {},
   "source": [
    "# Tema 08 - Programacion Orientada a Objetos (Enunciados)\n",
    "*Nota: Estos ejercicios son optativos para hacer al final de la unidad y están pensados para apoyar tu aprendizaje*."
   ]
  },
  {
   "cell_type": "markdown",
   "metadata": {},
   "source": [
    "**En este ejercicio vas a trabajar el concepto de puntos, coordenadas y vectores sobre el plano cartesiano y cómo la programación Orientada a Objetos puede ser una excelente aliada para trabajar con ellos. No está pensado para que hagas ningún tipo de cálculo sino para que practiques la automatización de tareas.**\n",
    "\n",
    "*Nota: Creo que es un ejemplo muy interesante, punto de partida en la programación de gráficos, pero si consideras que esto no lo tuyo puedes simplemente pasar de largo. Ahora bien, debes ser consciente de que te vas a perder uno de los ejercicios más interesantes del curso.*\n",
    "\n",
    "**Antes de continuar voy a explicar brevemente los conceptos básicos por si alguien necesita un repaso.**\n",
    "\n",
    "## El plano cartesiano\n",
    "\n",
    "Representa un espacio bidimensional (en 2 dimensiones), formado por dos rectas perpendiculares, una horizontal y otra vertical que se cortan en un punto. La recta horizontal se denomina eje de las abscisas o **eje X**, mientras que la vertical recibe el nombre de eje de las ordenadas o simplemente **eje Y**. En cuanto al punto donde se cortan, se conoce como el **punto de origen O**.\n",
    "\n",
    "<img src=\"http://www.escueladevideojuegos.net/ejemplos_edv/Cursos/Python/eje.jpg\" width=\"350\" />\n",
    "\n",
    "Es importante remarcar que el plano se divide en 4 cuadrantes:\n",
    "\n",
    "<img src=\"http://www.escueladevideojuegos.net/ejemplos_edv/Cursos/Python/cuadrante.jpg\" width=\"350\" />\n",
    "\n",
    "## Puntos y coordenadas\n",
    "\n",
    "El objetivo de todo esto es describir la posición de **puntos** sobre el plano en forma de **coordenadas**, que se forman asociando el valor del eje de las X (horizontal) con el valor del eje Y (vertical).\n",
    "\n",
    "La representación de un punto es sencilla: **P(X,Y)** dónde X y la Y son la distancia horizontal (izquierda o derecha) y vertical (arriba o abajo) respectivamente, utilizando como referencia el punto de origen (0,0), justo en el centro del plano.\n",
    "\n",
    "<img src=\"http://www.escueladevideojuegos.net/ejemplos_edv/Cursos/Python/Cartesian-coordinate-system.svg.png\" width=\"300\" />\n",
    "\n",
    "\n",
    "## Vectores en el plano\n",
    "\n",
    "Finalmente, un vector en el plano hace referencia a un segmento orientado, generado a partir de dos puntos distintos. \n",
    "\n",
    "A efectos prácticos no deja de ser una línea formada desde un punto inicial en dirección a otro punto final, por lo que se entiende que un vector tiene longitud y dirección/sentido.\n",
    "\n",
    "\n",
    "<img src=\"http://www.escueladevideojuegos.net/ejemplos_edv/Cursos/Python/vector3.png\" width=\"300\" />\n",
    "\n",
    "En esta figura, podemos observar dos puntos A y B que podríamos definir de la siguiente forma:\n",
    "* **A(x1, y1)** => **A(2, 3)**\n",
    "* **B(x2, y2)** => **B(5, 5)**\n",
    "\n",
    "Y el vector se representaría como la diferencia entre las coordendas del segundo punto respecto al primero (el segundo menos el primero):\n",
    "* **AB = (x2-x1, y2-y1)** => **(5-2, 5-3)** => **(3,2)** \n",
    "\n",
    "Lo que en definitiva no deja de ser: 3 a la derecha y 2 arriba.\n",
    "\n",
    "Y con esto finalizamos este mini repaso."
   ]
  },
  {
   "cell_type": "markdown",
   "metadata": {},
   "source": [
    "# El ejercicio\n",
    "\n",
    "#### Preparación\n",
    "\n",
    "* Crea una clase llamada **Punto** con sus dos coordenadas X e Y.\n",
    "* Añade un método **constructor** para crear puntos fácilmente. Si no se reciben una coordenada, su valor será cero.\n",
    "* Sobreescribe el método **string**, para que al imprimir por pantalla un punto aparezca en formato (X,Y)\n",
    "* Añade un método llamado **cuadrante** que indique a qué cuadrante pertenece el punto, o si es el origen.\n",
    "* Añade un método llamado **vector**, que tome otro punto y calcule el vector resultante entre los dos puntos.\n",
    "* (Optativo) Añade un método llamado **distancia**, que tome otro punto y calcule la distancia entre los dos puntos y la muestre por pantalla. La fórmula es la siguiente:\n",
    "\n",
    "<img src=\"http://www.escueladevideojuegos.net/ejemplos_edv/Cursos/Python/distancia.png\" width=\"250\" />\n",
    "\n",
    "*Nota: La función raíz cuadrada en Python sqrt() se debe importar del módulo math y utilizarla de la siguiente forma:*\n",
    "```python\n",
    "import math\n",
    "math.sqrt(9)\n",
    "> 3.0\n",
    "```\n",
    "\n",
    "* Crea una clase llamada **Rectangulo** con dos puntos (inicial y final) que formarán la diagonal del rectángulo.\n",
    "* Añade un método **constructor** para crear ambos puntos fácilmente, si no se envían se crearán dos puntos en el origen por defecto.\n",
    "* Añade al rectángulo un método llamado **base** que muestre la base.\n",
    "* Añade al rectángulo un método llamado **altura** que muestre la altura.\n",
    "* Añade al rectángulo un método llamado **area** que muestre el area.\n",
    "\n",
    "*Puedes identificar fácilmente estos valores si intentas dibujar el cuadrado a partir de su  diagonal. Si andas perdido, prueba de dibujarlo en un papel, ¡seguro que lo verás mucho más claro! Además recuerda que puedes utilizar la función **abs()** para saber el valor absolute de un número.*\n",
    "\n",
    "#### Experimentación\n",
    "* Crea los puntos A(2, 3),  B(5,5), C(-3, -1) y D(0,0) e imprimelos por pantalla.\n",
    "* Consulta a que cuadrante pertenecen el punto A, C y D.\n",
    "* Consulta los vectores AB y BA.\n",
    "* (Optativo) Consulta la distancia entre los puntos 'A y B' y 'B y A'. \n",
    "* (Optativo) Determina cual de los 3 puntos A, B o C, se encuentra más lejos del origen, punto (0,0). \n",
    "* Crea un rectángulo utilizando los puntos A y B.\n",
    "* Consulta la base, altura y área del rectángulo."
   ]
  },
  {
   "cell_type": "code",
   "execution_count": 215,
   "metadata": {},
   "outputs": [],
   "source": [
    "# Completa el ejercicio aquí\n",
    "import math\n",
    "\n",
    "class Punto:\n",
    "    \n",
    "    vector = []\n",
    "    distancia = None\n",
    "    \n",
    "    def __init__(self, x, y):\n",
    "        if x != None and y != None :\n",
    "            self.x = x\n",
    "            self.y = y\n",
    "        elif x == None and y == None:\n",
    "            self.x = 0\n",
    "            self.y = 0\n",
    "        elif x == None:\n",
    "            self.y = y\n",
    "            self.x = 0\n",
    "        else:\n",
    "            self.y = 0\n",
    "            self.x = x\n",
    "    \n",
    "    def __str__(self):\n",
    "        return \"(x={},y={})\".format(self.x, self.y)\n",
    "    \n",
    "    def cuadrante(self):\n",
    "        if self.x > 0 and self.y > 0:\n",
    "            print(\"Te encuentras en el cuadrante NO (Primer Cuadrante)\")\n",
    "        elif self.x > 0 and self.y < 0:\n",
    "            print(\"Te encuentras en el cuadrante SO \")\n",
    "        elif self.x < 0 and self.y < 0:\n",
    "             print(\"Te encuentras en el cuadrante SE (Tercer Cuadrante)\")\n",
    "        elif self.x < 0 and self.y >0:\n",
    "             print(\"Te encuentras en el cuadrante N0 (Segundo Cuadrante)\")\n",
    "        elif self.x == 0 and self.y == 0:\n",
    "            print(\"Te encuentras en el origen\")\n",
    "        elif self.y == 0:\n",
    "            print(\"Se encuentra sobre el eje x\")\n",
    "        else:\n",
    "            print(\"Te encuentras sobre el eje y\")\n",
    "    \n",
    "    def vector(self, direccion):\n",
    "        vector = [direccion.x - self.x, direccion.y - self.y]\n",
    "        print(\"El vector resultante del punto {} al punto {} es de {}\".format(self, direccion, vector))\n",
    "    \n",
    "    def distancia(self, otroPunto):\n",
    "        potDifX = (otroPunto.x - self.x)**2\n",
    "        potDifY = (otroPunto.y - self.y)**2\n",
    "        distancia = math.sqrt(potDifX + potDifY)\n",
    "        print(\"La distancia del punto {} al punto {} es de {}\".format(self, otroPunto, distancia))\n",
    "        \n",
    "            \n",
    "p1 = Punto(None, None)\n",
    "p2 = Punto(5, -1)\n",
    "p3 = Punto(None, 5)\n",
    "p4 = Punto(-10, 5)"
   ]
  },
  {
   "cell_type": "code",
   "execution_count": 216,
   "metadata": {},
   "outputs": [
    {
     "name": "stdout",
     "output_type": "stream",
     "text": [
      "(x=0,y=0) (x=5,y=-1) (x=0,y=5) (x=-10,y=5)\n"
     ]
    }
   ],
   "source": [
    "print(p1, p2, p3, p4)"
   ]
  },
  {
   "cell_type": "code",
   "execution_count": 217,
   "metadata": {},
   "outputs": [
    {
     "name": "stdout",
     "output_type": "stream",
     "text": [
      "Te encuentras en el origen\n",
      "Te encuentras en el cuadrante SO\n",
      "Te encuentras sobre el eje y\n",
      "Te encuentras en el cuadrante N0\n"
     ]
    }
   ],
   "source": [
    "p1.cuadrante()\n",
    "p2.cuadrante()\n",
    "p3.cuadrante()\n",
    "p4.cuadrante()"
   ]
  },
  {
   "cell_type": "code",
   "execution_count": 218,
   "metadata": {},
   "outputs": [
    {
     "name": "stdout",
     "output_type": "stream",
     "text": [
      "El vector resultante del punto (x=-10,y=5) al punto (x=0,y=5) es de [10, 0]\n"
     ]
    }
   ],
   "source": [
    "p4.vector(p3)"
   ]
  },
  {
   "cell_type": "code",
   "execution_count": 219,
   "metadata": {},
   "outputs": [
    {
     "name": "stdout",
     "output_type": "stream",
     "text": [
      "La distancia del punto (x=-10,y=5) al punto (x=0,y=5) es de 10.0\n"
     ]
    }
   ],
   "source": [
    "p4.distancia(p3)"
   ]
  },
  {
   "cell_type": "code",
   "execution_count": 377,
   "metadata": {},
   "outputs": [],
   "source": [
    "class Rectangulo:\n",
    "    \n",
    "    inicial = [None,None]\n",
    "    final = [None,None]\n",
    "    \n",
    "    def __init__(self, inicial, final):\n",
    "        if inicial !=None and inicial != None:\n",
    "            self.inicial = inicial\n",
    "            self.final = final\n",
    "        elif inicial == None and final == None:\n",
    "            self.inicial[0] = 0\n",
    "            self.inicial[1] = 0\n",
    "            self.final[0] = 0\n",
    "            self.final[1] = 0\n",
    "        elif inicial == None:\n",
    "            self.inicial[0] = 0\n",
    "            self.inicial[1] = 0\n",
    "            self.final = final\n",
    "        elif final == None:\n",
    "            self.final[0] = 0\n",
    "            self.final[1] = 0\n",
    "            self.inicial = inicial\n",
    "    \n",
    "    def base(self):\n",
    "        self.base = abs(self.final.x-self.inicial.x)\n",
    "        print(\"La base del rectangulo es de {}\".format(self.base))\n",
    "    \n",
    "    def altura(self):\n",
    "        self.altura = abs(self.final.y-self.inicial.y)\n",
    "        print(\"La altura del rectangulo es de {}\".format(self.altura))\n",
    "    \n",
    "    \n",
    "    def area(self):\n",
    "        self.area = self.base * self.altura\n",
    "        print(\"El area del triangulo es de {}\".format(self.area))\n",
    "\n",
    "    def __str__(self):\n",
    "        return \"Punto inicial: {}; Punto final {}\".format(self.inicial, self.final)"
   ]
  },
  {
   "cell_type": "code",
   "execution_count": 378,
   "metadata": {},
   "outputs": [
    {
     "name": "stdout",
     "output_type": "stream",
     "text": [
      "(x=2,y=3) (x=5,y=5) (x=-3,y=-1) (x=0,y=0)\n"
     ]
    }
   ],
   "source": [
    "# Crea los puntos A(2, 3), B(5,5), C(-3, -1) y D(0,0) e imprimelos por pantalla.\n",
    "a = Punto(2,3)\n",
    "b = Punto(5,5)\n",
    "c = Punto(-3,-1)\n",
    "d = Punto(0,0)\n",
    "print(a,b,c,d)"
   ]
  },
  {
   "cell_type": "code",
   "execution_count": 379,
   "metadata": {},
   "outputs": [
    {
     "name": "stdout",
     "output_type": "stream",
     "text": [
      "Te encuentras en el cuadrante NO\n",
      "Te encuentras en el cuadrante SE\n",
      "Te encuentras en el origen\n"
     ]
    }
   ],
   "source": [
    "# Consulta a que cuadrante pertenecen el punto A, C y D.\n",
    "a.cuadrante()\n",
    "c.cuadrante()\n",
    "d.cuadrante()"
   ]
  },
  {
   "cell_type": "code",
   "execution_count": 380,
   "metadata": {},
   "outputs": [
    {
     "name": "stdout",
     "output_type": "stream",
     "text": [
      "El vector resultante del punto (x=2,y=3) al punto (x=5,y=5) es de [3, 2]\n",
      "El vector resultante del punto (x=5,y=5) al punto (x=2,y=3) es de [-3, -2]\n"
     ]
    }
   ],
   "source": [
    "# Consulta los vectores AB y BA.\n",
    "a.vector(b)\n",
    "b.vector(a)"
   ]
  },
  {
   "cell_type": "code",
   "execution_count": 381,
   "metadata": {},
   "outputs": [
    {
     "name": "stdout",
     "output_type": "stream",
     "text": [
      "La distancia del punto (x=2,y=3) al punto (x=5,y=5) es de 3.605551275463989\n",
      "La distancia del punto (x=5,y=5) al punto (x=2,y=3) es de 3.605551275463989\n"
     ]
    }
   ],
   "source": [
    "# (Optativo) Consulta la distancia entre los puntos 'A y B' y 'B y A'.\n",
    "a.distancia(b)\n",
    "b.distancia(a)"
   ]
  },
  {
   "cell_type": "code",
   "execution_count": 382,
   "metadata": {},
   "outputs": [
    {
     "name": "stdout",
     "output_type": "stream",
     "text": [
      "La distancia del punto (x=2,y=3) al punto (x=0,y=0) es de 3.605551275463989\n",
      "La distancia del punto (x=5,y=5) al punto (x=0,y=0) es de 7.0710678118654755\n",
      "La distancia del punto (x=-3,y=-1) al punto (x=0,y=0) es de 3.1622776601683795\n"
     ]
    }
   ],
   "source": [
    "# (Optativo) Determina cual de los 3 puntos A, B o C, se encuentra más lejos del origen, punto (0,0).\n",
    "d1 = a.distancia(d)\n",
    "d2 = b.distancia(d)\n",
    "d3 = c.distancia(d)"
   ]
  },
  {
   "cell_type": "code",
   "execution_count": 383,
   "metadata": {},
   "outputs": [],
   "source": [
    "# Crea un rectángulo utilizando los puntos A y B.\n",
    "r = Rectangulo(a,b)"
   ]
  },
  {
   "cell_type": "code",
   "execution_count": 384,
   "metadata": {},
   "outputs": [
    {
     "name": "stdout",
     "output_type": "stream",
     "text": [
      "Punto inicial: (x=2,y=3); Punto final (x=5,y=5)\n",
      "La base del rectangulo es de 3\n",
      "La altura del rectangulo es de 2\n",
      "El area del triangulo es de 6\n"
     ]
    }
   ],
   "source": [
    "# Consulta la base, altura y área del rectángulo.\n",
    "print(r)\n",
    "r.base()\n",
    "r.altura()\n",
    "r.area()"
   ]
  },
  {
   "cell_type": "code",
   "execution_count": 385,
   "metadata": {},
   "outputs": [],
   "source": [
    "r2 = Rectangulo(None,b)"
   ]
  },
  {
   "cell_type": "code",
   "execution_count": 386,
   "metadata": {},
   "outputs": [
    {
     "name": "stdout",
     "output_type": "stream",
     "text": [
      "Punto inicial: [0, 0]; Punto final (x=5,y=5)\n"
     ]
    }
   ],
   "source": [
    "print(r2)"
   ]
  },
  {
   "cell_type": "code",
   "execution_count": 387,
   "metadata": {},
   "outputs": [
    {
     "name": "stdout",
     "output_type": "stream",
     "text": [
      "Te encuentras en el cuadrante NO\n",
      "Te encuentras en el cuadrante SE\n",
      "Te encuentras en el origen\n",
      "El vector resultante del punto (x=2,y=3) al punto (x=5,y=5) es de [3, 2]\n",
      "El vector resultante del punto (x=5,y=5) al punto (x=2,y=3) es de [-3, -2]\n",
      "La distancia del punto (x=2,y=3) al punto (x=5,y=5) es de 3.605551275463989\n",
      "La distancia del punto (x=5,y=5) al punto (x=2,y=3) es de 3.605551275463989\n",
      "La distancia del punto (x=2,y=3) al punto (x=0,y=0) es de 3.605551275463989\n",
      "La distancia del punto (x=5,y=5) al punto (x=0,y=0) es de 7.0710678118654755\n",
      "La distancia del punto (x=-3,y=-1) al punto (x=0,y=0) es de 3.1622776601683795\n",
      "La base del rectangulo es de 3\n",
      "La altura del rectangulo es de 2\n",
      "El area del triangulo es de 6\n"
     ]
    }
   ],
   "source": [
    "a = Punto(2,3)\n",
    "b = Punto(5,5)\n",
    "c = Punto(-3,-1)\n",
    "d = Punto(0,0)\n",
    "a.cuadrante()\n",
    "c.cuadrante()\n",
    "d.cuadrante()\n",
    "a.vector(b)\n",
    "b.vector(a)\n",
    "a.distancia(b)\n",
    "b.distancia(a)\n",
    "d1 = a.distancia(d)\n",
    "d2 = b.distancia(d)\n",
    "d3 = c.distancia(d)\n",
    "r = Rectangulo(a,b)\n",
    "r.base()\n",
    "r.altura()\n",
    "r.area()"
   ]
  },
  {
   "cell_type": "code",
   "execution_count": null,
   "metadata": {},
   "outputs": [],
   "source": []
  },
  {
   "cell_type": "code",
   "execution_count": null,
   "metadata": {},
   "outputs": [],
   "source": []
  }
 ],
 "metadata": {
  "anaconda-cloud": {},
  "kernelspec": {
   "display_name": "Python 3",
   "language": "python",
   "name": "python3"
  },
  "language_info": {
   "codemirror_mode": {
    "name": "ipython",
    "version": 3
   },
   "file_extension": ".py",
   "mimetype": "text/x-python",
   "name": "python",
   "nbconvert_exporter": "python",
   "pygments_lexer": "ipython3",
   "version": "3.8.5"
  }
 },
 "nbformat": 4,
 "nbformat_minor": 1
}
