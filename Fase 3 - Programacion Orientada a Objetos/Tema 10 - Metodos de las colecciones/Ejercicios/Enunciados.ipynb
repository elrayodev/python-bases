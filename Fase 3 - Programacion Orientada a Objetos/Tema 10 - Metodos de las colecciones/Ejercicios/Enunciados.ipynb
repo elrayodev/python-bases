{
 "cells": [
  {
   "cell_type": "markdown",
   "metadata": {},
   "source": [
    "# Tema 10: Métodos de las colecciones (Enunciados)\n",
    "*Nota: Estos ejercicios son optativos para hacer al final de la unidad y están pensados para apoyar tu aprendizaje*."
   ]
  },
  {
   "cell_type": "markdown",
   "metadata": {},
   "source": [
    "**1) Utilizando todo lo que sabes sobre cadenas, listas, sus métodos internos... Transforma este texto:**\n",
    "\n",
    "```\n",
    "un día que el viento soplaba con fuerza#mira como se mueve aquella banderola -dijo un monje#lo que se mueve es el viento -respondió otro monje#ni las banderolas ni el viento, lo que se mueve son vuestras mentes -dijo el maestro\n",
    "```\n",
    "**En este otro:**\n",
    "\n",
    "```\n",
    "Un día que el viento soplaba con fuerza...\n",
    "- Mira como se mueve aquella banderola -dijo un monje.\n",
    "- Lo que se mueve es el viento -respondió otro monje.\n",
    "- Ni las banderolas ni el viento, lo que se mueve son vuestras mentes -dijo el maestro.\n",
    "```\n",
    "**Lo único prohibido es modificar directamente el texto**"
   ]
  },
  {
   "cell_type": "code",
   "execution_count": 16,
   "metadata": {},
   "outputs": [
    {
     "name": "stdout",
     "output_type": "stream",
     "text": [
      "Un día que el viento soplaba con fuerza...\n",
      "- Mira como se mueve aquella banderola -dijo un monje.\n",
      "- Lo que se mueve es el viento -respondió otro monje.\n",
      "- Ni las banderolas ni el viento, lo que se mueve son vuestras mentes -dijo el maestro.\n"
     ]
    }
   ],
   "source": [
    "# Completa el ejercicio aquí\n",
    "texto = \"un día que el viento soplaba con fuerza#mira como se mueve aquella banderola -dijo un monje#lo que se mueve es el viento -respondió otro monje#ni las banderolas ni el viento, lo que se mueve son vuestras mentes -dijo el maestro\"\n",
    "\n",
    "lineas = texto.split(\"#\")\n",
    "\n",
    "for i, linea in enumerate(lineas):\n",
    "    lineas[i] = linea.capitalize()\n",
    "    if i == 0:\n",
    "        lineas[i] = lineas[i] + \"...\"\n",
    "    else:\n",
    "        lineas[i] = \"- \" + lineas[i] + \".\"\n",
    "\n",
    "# Mostramos texto final\n",
    "for linea in lineas:\n",
    "    print(linea)"
   ]
  },
  {
   "cell_type": "markdown",
   "metadata": {},
   "source": [
    "**2) Crea una función modificar() que a partir de una lista de números realice las siguientes tareas sin modificar la original:**\n",
    "\n",
    "* Borrar los elementos duplicados\n",
    "* Ordenar la lista de mayor a menor\n",
    "* Eliminar todos los números impares\n",
    "* Realizar una suma de todos los números que quedan\n",
    "* Añadir como primer elemento de la lista la suma realizada\n",
    "* Devolver la lista modificada\n",
    "* Finalmente, después de ejecutar la función, comprueba que la suma de todos los números a partir del segundo, concuerda con el primer número de la lista, tal que así:\n",
    "```python\n",
    "nueva_lista = modificar(lista)\n",
    "print( nueva_lista[0] == sum(nueva_lista[1:]) )\n",
    "> True\n",
    "```\n",
    "\n",
    "*Nota: La función sum(lista) devuelve una suma de los elementos de una lista*"
   ]
  },
  {
   "cell_type": "code",
   "execution_count": 28,
   "metadata": {},
   "outputs": [
    {
     "data": {
      "text/plain": [
       "[40, 24, 16, 12, -12]"
      ]
     },
     "execution_count": 28,
     "metadata": {},
     "output_type": "execute_result"
    }
   ],
   "source": [
    "# Completa el ejercicio aquí\n",
    "lista = [29, -5, -12, 17, 5, 24, 5, 12, 23, 16, 12, 5, -12, 17]\n",
    "\n",
    "def modificar(l):\n",
    "    \n",
    "    l = list(set(l)) # Borra los elementos duplicados, crea una lista a partir de un nuevo diccionario\n",
    "    l.sort(reverse = True) # Ordena la lista de mayor a menor\n",
    "    \n",
    "    l_temp = []\n",
    "    \n",
    "    # Eliminamos todos los números impares\n",
    "    for n in l:\n",
    "        if n%2 == 0:\n",
    "            l_temp.append(n)\n",
    "    \n",
    "    # Hacemos suma con lista restante\n",
    "    suma = sum(l_temp)\n",
    "    \n",
    "    # Insertamos suma en primer valor del indice\n",
    "    l_temp.insert(0,suma) \n",
    "    \n",
    "    #Devolvemos la lista modificada\n",
    "    return l_temp\n",
    "\n",
    "modificar(lista)"
   ]
  },
  {
   "cell_type": "code",
   "execution_count": 32,
   "metadata": {},
   "outputs": [
    {
     "name": "stdout",
     "output_type": "stream",
     "text": [
      "True\n"
     ]
    }
   ],
   "source": [
    "nueva_lista = modificar(lista)\n",
    "print(nueva_lista[0] == sum(nueva_lista[1:]))"
   ]
  },
  {
   "cell_type": "code",
   "execution_count": null,
   "metadata": {},
   "outputs": [],
   "source": []
  }
 ],
 "metadata": {
  "anaconda-cloud": {},
  "kernelspec": {
   "display_name": "Python 3",
   "language": "python",
   "name": "python3"
  },
  "language_info": {
   "codemirror_mode": {
    "name": "ipython",
    "version": 3
   },
   "file_extension": ".py",
   "mimetype": "text/x-python",
   "name": "python",
   "nbconvert_exporter": "python",
   "pygments_lexer": "ipython3",
   "version": "3.8.5"
  }
 },
 "nbformat": 4,
 "nbformat_minor": 1
}
