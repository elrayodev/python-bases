{
 "cells": [
  {
   "cell_type": "markdown",
   "metadata": {},
   "source": [
    "# Tema 03: Control de flujo (Enunciados)\n",
    "*Nota: Estos ejercicios son optativos para hacer al final de la unidad y están pensados para apoyar tu aprendizaje*."
   ]
  },
  {
   "cell_type": "markdown",
   "metadata": {},
   "source": [
    "**1) Realiza un programa que lea dos números por teclado y permita elegir entre 3 opciones en un menú:** \n",
    "* Mostrar una suma de los dos números\n",
    "* Mostrar una resta de los dos números (el primero menos el segundo)\n",
    "* Mostrar una multiplicación de los dos números\n",
    "* En caso de no introducir una opción válida, el programa informará de que no es correcta."
   ]
  },
  {
   "cell_type": "code",
   "execution_count": 1,
   "metadata": {},
   "outputs": [
    {
     "name": "stdout",
     "output_type": "stream",
     "text": [
      "Ingrese primer valor: 20\n",
      "Ingrese primer valor: 30\n",
      "Elige una de las opciones que desee realizar con los operadores \n",
      "    1) Suma de los numeros\n",
      "    2) Resta de los numeros 'primer numero menos el segundo'\n",
      "    3) Multiplicacion de los números\n",
      "    4) Salir\n",
      "\n",
      "Opcion elegida: 1\n",
      "\n",
      "La suma de los dos numeros es:  50\n",
      "Elige una de las opciones que desee realizar con los operadores \n",
      "    1) Suma de los numeros\n",
      "    2) Resta de los numeros 'primer numero menos el segundo'\n",
      "    3) Multiplicacion de los números\n",
      "    4) Salir\n",
      "\n",
      "Opcion elegida: 4\n",
      "\n",
      "Ha finalizado la aplicación\n"
     ]
    }
   ],
   "source": [
    "num1 = int(input(\"Ingrese primer valor: \"))\n",
    "num2= int(input(\"Ingrese primer valor: \"))\n",
    "\n",
    "while(True):\n",
    "    print(\"\"\"Elige una de las opciones que desee realizar con los operadores \n",
    "    1) Suma de los numeros\n",
    "    2) Resta de los numeros 'primer numero menos el segundo'\n",
    "    3) Multiplicacion de los números\n",
    "    4) Salir\"\"\")\n",
    "    opcion = input(\"\\nOpcion elegida: \")\n",
    "    \n",
    "    if opcion == '1':\n",
    "        suma = num1 + num2\n",
    "        print(\"\\nLa suma de los dos numeros es: \",suma, end = \"\\n\")\n",
    "    elif opcion == '2':\n",
    "        resta = num1 - num2\n",
    "        print(\"\\nLa resta de los dos numeros es: \", resta, end = \"\\n\")\n",
    "    elif opcion == '3':\n",
    "        multiplicacion = num1 * num2\n",
    "        print(\"\\nLa multiplicacion de los dos números es: \", multiplicacion, end = \"\\n\")\n",
    "    elif opcion == '4':\n",
    "        print(\"\\nHa finalizado la aplicación\", end = \"\\n\")\n",
    "        break\n",
    "    else:\n",
    "        print(\"\\nOpcion no válida, elige una válida\", end = \"\\n\")\n"
   ]
  },
  {
   "cell_type": "markdown",
   "metadata": {},
   "source": [
    "**2) Realiza un programa que lea un número impar por teclado. Si el usuario no introduce un número impar, debe repetise el proceso hasta que lo introduzca correctamente.**"
   ]
  },
  {
   "cell_type": "code",
   "execution_count": 3,
   "metadata": {},
   "outputs": [
    {
     "name": "stdout",
     "output_type": "stream",
     "text": [
      "Ingrese numero:6\n",
      "Es necesario que ingrese un número impar para poder salir del programa\n",
      "Ingrese numero:264\n",
      "Es necesario que ingrese un número impar para poder salir del programa\n",
      "Ingrese numero:6\n",
      "Es necesario que ingrese un número impar para poder salir del programa\n",
      "Ingrese numero:7\n"
     ]
    }
   ],
   "source": [
    "# Completa el ejercicio aquí\n",
    "while True:\n",
    "    impar = int(input(\"Ingrese numero:\"))\n",
    "    if (impar%2)!= 0:\n",
    "        break\n",
    "    else:\n",
    "        print(\"Es necesario que ingrese un número impar para poder salir del programa\", end = \"\\n\")"
   ]
  },
  {
   "cell_type": "markdown",
   "metadata": {},
   "source": [
    "**3) Realiza un programa que sume todos los números enteros pares desde el 0 hasta el 100:**\n",
    "\n",
    "*Sugerencia: Puedes utilizar la funciones sum() y range() para hacerlo más fácil. El tercer parámetro en la función range(inicio, fin, salto) indica un salto de números, pruébalo.*"
   ]
  },
  {
   "cell_type": "code",
   "execution_count": 14,
   "metadata": {},
   "outputs": [
    {
     "name": "stdout",
     "output_type": "stream",
     "text": [
      "Hola\n",
      "La suma de todos los pares del 0 al 100 es:  2550\n",
      "[0, 2, 4, 6, 8, 10, 12, 14, 16, 18, 20, 22, 24, 26, 28, 30, 32, 34, 36, 38, 40, 42, 44, 46, 48, 50, 52, 54, 56, 58, 60, 62, 64, 66, 68, 70, 72, 74, 76, 78, 80, 82, 84, 86, 88, 90, 92, 94, 96, 98, 100]\n"
     ]
    }
   ],
   "source": [
    "# Completa el ejercicio aquí\n",
    "print(\"Hola\")\n",
    "listaPares = []\n",
    "for i in range(0,101,2):\n",
    "    listaPares.append(i)\n",
    "\n",
    "print(\"La suma de todos los pares del 0 al 100 es: \", sum(listaPares))\n",
    "print(listaPares)"
   ]
  },
  {
   "cell_type": "markdown",
   "metadata": {},
   "source": [
    "**4) Realiza un programa que pida al usuario cuantos números quiere introducir. Luego lee todos los números y realiza una media aritmética:**\n"
   ]
  },
  {
   "cell_type": "code",
   "execution_count": 94,
   "metadata": {},
   "outputs": [
    {
     "name": "stdout",
     "output_type": "stream",
     "text": [
      "¿Cuántos números desea introducir? 3\n",
      "Ingrese valor:10\n",
      "Ingrese valor:5\n",
      "Ingrese valor:7\n",
      "Los números son [10, 5, 7] . Su media es  7.33\n"
     ]
    }
   ],
   "source": [
    "# Completa el ejercicio aquí\n",
    "numeroUsuario = int(input(\"¿Cuántos números desea introducir? \"))\n",
    "numeros = []\n",
    "cont = 0\n",
    "\n",
    "while cont != numeroUsuario:\n",
    "    teclado = int(input(\"Ingrese valor:\"))\n",
    "    numeros.append(teclado)\n",
    "    cont += 1\n",
    "\n",
    "media = sum(numeros)/len(numeros)\n",
    "print(\"Los números son\",numeros,\". Su media es \", round(media,2))"
   ]
  },
  {
   "cell_type": "markdown",
   "metadata": {},
   "source": [
    "**5) Realiza un programa que pida al usuario un número entero del 0 al 9, y que mientras el número no sea correcto se repita el proceso. Luego debe comprobar si el número se encuentra en la lista de números y notificarlo:**\n",
    "\n",
    "*Consejo: La sintaxis \"valor in lista\" permite comprobar fácilmente si un valor se encuentra en una lista (devuelve True o False)*"
   ]
  },
  {
   "cell_type": "code",
   "execution_count": 43,
   "metadata": {},
   "outputs": [
    {
     "name": "stdout",
     "output_type": "stream",
     "text": [
      "Ingrese valor entre el 0 y el 9: 7\n"
     ]
    }
   ],
   "source": [
    "# Completa el ejercicio aquí\n",
    "numeros = [1, 3, 6, 9]\n",
    "\n",
    "while True:\n",
    "    numUsuario = int(input(\"Ingrese valor entre el 0 y el 9: \"))\n",
    "    if(numUsuario >= 0 and numUsuario <= 9):\n",
    "        for i, numero in enumerate(numeros):\n",
    "            if numUsuario == numeros[i]:\n",
    "                print(\"El número se encuentra dentro de la lista\")\n",
    "                break\n",
    "            if i == (len(numeros)-1):\n",
    "                print(\"El número no se encuentra dentro de la lista\")\n",
    "        break\n",
    "    else:\n",
    "        print(\"Numero inválido\")\n",
    "\n"
   ]
  },
  {
   "cell_type": "markdown",
   "metadata": {},
   "source": [
    "**6) Utilizando la función range() y la conversión a listas genera las siguientes listas dinámicamente:**\n",
    "* Todos los números del 0 al 10 [0, 1, 2, ..., 10]\n",
    "* Todos los números del -10 al 0 [-10, -9, -8, ..., 0]\n",
    "* Todos los números pares del 0 al 20 [0, 2, 4, ..., 20]\n",
    "* Todos los números impares entre -20 y 0 [-19, -17, -15, ..., -1]\n",
    "* Todos los números múltiples de 5 del 0 al 50 [0, 5, 10, ..., 50]\n",
    "\n",
    "*Pista: Utiliza el tercer parámetro de la función range(inicio, fin, salto).*"
   ]
  },
  {
   "cell_type": "code",
   "execution_count": 52,
   "metadata": {},
   "outputs": [
    {
     "name": "stdout",
     "output_type": "stream",
     "text": [
      "Lista del 0 al 10 [0, 1, 2, 3, 4, 5, 6, 7, 8, 9, 10]\n",
      "Lista del -10 al 0 [-10, -9, -8, -7, -6, -5, -4, -3, -2, -1, 0]\n",
      "Lista de los números pares del 0 al 20 [0, 2, 4, 6, 8, 10, 12, 14, 16, 18, 20]\n",
      "Lista de los números impares del -20 al 0 [-19, -17, -15, -13, -11, -9, -7, -5, -3, -1]\n",
      "Lista de los números impares del -20 al 0 [0, 5, 10, 15, 20, 25, 30, 35, 40, 45, 50]\n"
     ]
    }
   ],
   "source": [
    "# Completa el ejercicio\n",
    "    \n",
    "lista1 = list(range(11))\n",
    "print(\"Lista del 0 al 10\", lista1)\n",
    "\n",
    "lista2 = list(range(-10,1))\n",
    "print(\"Lista del -10 al 0\", lista2)\n",
    "\n",
    "lista3 = list(range(0,21,2))\n",
    "print(\"Lista de los números pares del 0 al 20\", lista3)\n",
    "\n",
    "lista4 = list(range(-19,1,2))\n",
    "print(\"Lista de los números impares del -20 al 0\", lista4)\n",
    "\n",
    "lista5 = list(range(0,51,5))\n",
    "print(\"Lista de los números impares del -20 al 0\", lista5)"
   ]
  },
  {
   "cell_type": "markdown",
   "metadata": {},
   "source": [
    "**7) Dadas dos listas, debes generar una tercera con todos los elementos que se repitan en ellas, pero no debe repetise ningún elemento en la nueva lista:**"
   ]
  },
  {
   "cell_type": "code",
   "execution_count": 106,
   "metadata": {},
   "outputs": [
    {
     "name": "stdout",
     "output_type": "stream",
     "text": [
      "[2, 4, 6, 10, 14, 200]\n",
      "[2, 4, 6, 10, 14, 200]\n"
     ]
    }
   ],
   "source": [
    "# Completa el ejercicio aquí\n",
    "lista1 = [2,4,6,8,10,12,14,200,2,4]\n",
    "lista2 = [2,6,10,14,18,2,4,14,4,100,200]\n",
    "nuevaLista = []\n",
    "nuevaLista2 = []\n",
    "\n",
    "for i in lista1:\n",
    "    numeroActual = i\n",
    "    for j in lista2:\n",
    "        if numeroActual == j:\n",
    "            if numeroActual in nuevaLista:\n",
    "                continue\n",
    "            nuevaLista.append(numeroActual)\n",
    "        \n",
    "print(nuevaLista)\n",
    "\n",
    "for num in lista1:\n",
    "    numActual = num\n",
    "    if numActual in lista2 and numActual not in nuevaLista2:\n",
    "        nuevaLista2.append(numActual)\n",
    "            \n",
    "print(nuevaLista2)"
   ]
  },
  {
   "cell_type": "code",
   "execution_count": null,
   "metadata": {},
   "outputs": [],
   "source": []
  },
  {
   "cell_type": "code",
   "execution_count": null,
   "metadata": {},
   "outputs": [],
   "source": []
  }
 ],
 "metadata": {
  "anaconda-cloud": {},
  "kernelspec": {
   "display_name": "Python 3",
   "language": "python",
   "name": "python3"
  },
  "language_info": {
   "codemirror_mode": {
    "name": "ipython",
    "version": 3
   },
   "file_extension": ".py",
   "mimetype": "text/x-python",
   "name": "python",
   "nbconvert_exporter": "python",
   "pygments_lexer": "ipython3",
   "version": "3.7.6"
  }
 },
 "nbformat": 4,
 "nbformat_minor": 1
}
