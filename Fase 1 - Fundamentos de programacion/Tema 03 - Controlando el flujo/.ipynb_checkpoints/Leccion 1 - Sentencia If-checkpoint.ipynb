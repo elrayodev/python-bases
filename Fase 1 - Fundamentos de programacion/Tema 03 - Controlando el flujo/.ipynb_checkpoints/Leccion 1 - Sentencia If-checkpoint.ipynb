{
 "cells": [
  {
   "cell_type": "code",
   "execution_count": 1,
   "metadata": {},
   "outputs": [
    {
     "ename": "SyntaxError",
     "evalue": "invalid syntax (<ipython-input-1-850f1eccbd09>, line 1)",
     "output_type": "error",
     "traceback": [
      "\u001b[1;36m  File \u001b[1;32m\"<ipython-input-1-850f1eccbd09>\"\u001b[1;36m, line \u001b[1;32m1\u001b[0m\n\u001b[1;33m    if True\u001b[0m\n\u001b[1;37m           ^\u001b[0m\n\u001b[1;31mSyntaxError\u001b[0m\u001b[1;31m:\u001b[0m invalid syntax\n"
     ]
    }
   ],
   "source": [
    "if True"
   ]
  },
  {
   "cell_type": "code",
   "execution_count": 2,
   "metadata": {},
   "outputs": [
    {
     "name": "stdout",
     "output_type": "stream",
     "text": [
      "Se cumple la condición\n"
     ]
    }
   ],
   "source": [
    "if True:\n",
    "    print(\"Se cumple la condición\")"
   ]
  },
  {
   "cell_type": "code",
   "execution_count": 3,
   "metadata": {},
   "outputs": [
    {
     "name": "stdout",
     "output_type": "stream",
     "text": [
      "a vale 5\n"
     ]
    }
   ],
   "source": [
    "a = 5\n",
    "if a == 2:\n",
    "    print(\"a vale 2\")\n",
    "if a == 5:\n",
    "    print(\"a vale 5\")"
   ]
  },
  {
   "cell_type": "code",
   "execution_count": 8,
   "metadata": {},
   "outputs": [
    {
     "name": "stdout",
     "output_type": "stream",
     "text": [
      "a vale  5\n",
      "y b vale 10\n"
     ]
    }
   ],
   "source": [
    "a = 5\n",
    "b = 10\n",
    "if a == 5:\n",
    "    print(\"a vale \", a)\n",
    "    if b == 10:\n",
    "        print(\"y b vale\", b)"
   ]
  },
  {
   "cell_type": "code",
   "execution_count": 9,
   "metadata": {},
   "outputs": [
    {
     "name": "stdout",
     "output_type": "stream",
     "text": [
      "a vale 5 b vale 10\n"
     ]
    }
   ],
   "source": [
    "if a == 5 and b == 10:\n",
    "    print(\"a vale\", a, \"b vale\", b)"
   ]
  },
  {
   "cell_type": "code",
   "execution_count": 11,
   "metadata": {},
   "outputs": [
    {
     "name": "stdout",
     "output_type": "stream",
     "text": [
      "11 es un número impar\n"
     ]
    }
   ],
   "source": [
    "n = 11\n",
    "if n % 2 == 0:\n",
    "    print(n,\"es un número par\")\n",
    "else:\n",
    "    print(n,\"es un número impar\")"
   ]
  },
  {
   "cell_type": "code",
   "execution_count": 16,
   "metadata": {},
   "outputs": [
    {
     "name": "stdout",
     "output_type": "stream",
     "text": [
      "Hola, espero que te lo estes pasando bien aprendiendo Python\n"
     ]
    }
   ],
   "source": [
    "comando = \"SALUDAR\"\n",
    "if comando == \"ENTRAR\":\n",
    "    print(\"Bienvenido al sistema\")\n",
    "elif comando == \"SALUDAR\":\n",
    "    print(\"Hola, espero que te lo estes pasando bien aprendiendo Python\")\n",
    "elif comando ==  \"SALIR\":\n",
    "    print(\"Saliendo del sistema\")\n",
    "else:\n",
    "    print(\"Este comando no se reconoce\")"
   ]
  },
  {
   "cell_type": "code",
   "execution_count": 23,
   "metadata": {},
   "outputs": [
    {
     "name": "stdout",
     "output_type": "stream",
     "text": [
      "Intrduce una nota: 7\n",
      "7.0 Notable\n"
     ]
    }
   ],
   "source": [
    "nota = float(input(\"Intrduce una nota: \"))\n",
    "if nota >= 9:\n",
    "    print(nota,\"Sobresaliente\")\n",
    "elif nota >=7:\n",
    "    print(nota,\"Notable\")\n",
    "elif nota >=6:\n",
    "    print(nota,\"Bien\")\n",
    "elif nota >=5:\n",
    "    print(nota,\"Suficiente\")\n",
    "else:\n",
    "    print(\"Insuficiente\")"
   ]
  },
  {
   "cell_type": "code",
   "execution_count": null,
   "metadata": {},
   "outputs": [],
   "source": []
  }
 ],
 "metadata": {
  "kernelspec": {
   "display_name": "Python 3",
   "language": "python",
   "name": "python3"
  },
  "language_info": {
   "codemirror_mode": {
    "name": "ipython",
    "version": 3
   },
   "file_extension": ".py",
   "mimetype": "text/x-python",
   "name": "python",
   "nbconvert_exporter": "python",
   "pygments_lexer": "ipython3",
   "version": "3.7.6"
  }
 },
 "nbformat": 4,
 "nbformat_minor": 1
}
