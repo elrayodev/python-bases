{
 "cells": [
  {
   "cell_type": "code",
   "execution_count": 3,
   "metadata": {},
   "outputs": [
    {
     "name": "stdout",
     "output_type": "stream",
     "text": [
      "c vale 1; c vale 2; c vale 3; c vale 4; c vale 5; c vale 6; "
     ]
    }
   ],
   "source": [
    "c = 0\n",
    "while c <= 5:\n",
    "    c+=1\n",
    "    print(\"c vale\",c,end = \"; \")"
   ]
  },
  {
   "cell_type": "code",
   "execution_count": 4,
   "metadata": {},
   "outputs": [
    {
     "name": "stdout",
     "output_type": "stream",
     "text": [
      "c vale 1; c vale 2; c vale 3; c vale 4; c vale 5; c vale 6; Se ha completado tota la iteración y c vale 6\n"
     ]
    }
   ],
   "source": [
    "c = 0\n",
    "while c <= 5:\n",
    "    c+=1\n",
    "    print(\"c vale\",c,end = \"; \")\n",
    "else:\n",
    "    print(\"Se ha completado tota la iteración y c vale\", c)"
   ]
  },
  {
   "cell_type": "code",
   "execution_count": 7,
   "metadata": {},
   "outputs": [
    {
     "name": "stdout",
     "output_type": "stream",
     "text": [
      "Bienvenido al menu iteractivo\n",
      "¿Qué quieres hacer? Escribe una opcion\n",
      "    1) Saludar\n",
      "    2) Sumar dos números\n",
      "    3) Salir\n",
      "1\n",
      "Hola\n",
      "¿Qué quieres hacer? Escribe una opcion\n",
      "    1) Saludar\n",
      "    2) Sumar dos números\n",
      "    3) Salir\n",
      "2\n",
      "Ingrese primer valor: 10\n",
      "Ingrese segundo valor: 5\n",
      "La suma de sus dos valores proporcionados es:  15\n",
      "¿Qué quieres hacer? Escribe una opcion\n",
      "    1) Saludar\n",
      "    2) Sumar dos números\n",
      "    3) Salir\n",
      "fads\n",
      "Comando desconocido, vuelve a intentarlo\n",
      "¿Qué quieres hacer? Escribe una opcion\n",
      "    1) Saludar\n",
      "    2) Sumar dos números\n",
      "    3) Salir\n",
      "3\n",
      "Adios\n"
     ]
    }
   ],
   "source": [
    "print(\"Bienvenido al menu iteractivo\")\n",
    "while(True):\n",
    "    print(\"\"\"¿Qué quieres hacer? Escribe una opcion\n",
    "    1) Saludar\n",
    "    2) Sumar dos números\n",
    "    3) Salir\"\"\")\n",
    "    opcion = input()\n",
    "    if opcion == \"1\":\n",
    "        print(\"Hola\")\n",
    "    elif opcion == \"2\":\n",
    "        num1 = int(input(\"Ingrese primer valor: \"))\n",
    "        num2 = int(input(\"Ingrese segundo valor: \"))\n",
    "        suma = num1 + num2\n",
    "        print(\"La suma de sus dos valores proporcionados es: \",suma)\n",
    "    elif opcion == \"3\":\n",
    "        print(\"Adios\")\n",
    "        break\n",
    "    else:\n",
    "        print(\"Comando desconocido, vuelve a intentarlo\")"
   ]
  },
  {
   "cell_type": "code",
   "execution_count": null,
   "metadata": {},
   "outputs": [],
   "source": []
  }
 ],
 "metadata": {
  "kernelspec": {
   "display_name": "Python 3",
   "language": "python",
   "name": "python3"
  },
  "language_info": {
   "codemirror_mode": {
    "name": "ipython",
    "version": 3
   },
   "file_extension": ".py",
   "mimetype": "text/x-python",
   "name": "python",
   "nbconvert_exporter": "python",
   "pygments_lexer": "ipython3",
   "version": "3.7.6"
  }
 },
 "nbformat": 4,
 "nbformat_minor": 1
}
