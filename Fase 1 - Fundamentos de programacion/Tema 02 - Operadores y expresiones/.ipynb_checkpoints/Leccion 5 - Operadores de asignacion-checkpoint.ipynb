{
 "cells": [
  {
   "cell_type": "code",
   "execution_count": null,
   "metadata": {},
   "outputs": [],
   "source": [
    "n = 0 #Asignación de 0 en n\n",
    "while n < 10: #Expresión relacional n < 10, que devuelve True\n",
    "    if(n % 2) == 0: #Expresión aritmética y expresión relacional\n",
    "        print(n, \"es un número par\")\n",
    "    else:\n",
    "        print(n, \"es un número impar\")\n",
    "    n += 1 #Expresión aritmética n = n + 1 equivalente a operación en asignación n+=1"
   ]
  }
 ],
 "metadata": {
  "kernelspec": {
   "display_name": "Python 3",
   "language": "python",
   "name": "python3"
  },
  "language_info": {
   "codemirror_mode": {
    "name": "ipython",
    "version": 3
   },
   "file_extension": ".py",
   "mimetype": "text/x-python",
   "name": "python",
   "nbconvert_exporter": "python",
   "pygments_lexer": "ipython3",
   "version": "3.7.6"
  }
 },
 "nbformat": 4,
 "nbformat_minor": 1
}
